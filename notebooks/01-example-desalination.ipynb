{
 "cells": [
  {
   "cell_type": "markdown",
   "metadata": {},
   "source": [
    "# Desalination example\n",
    "\n",
    "This notebooks illustrates the use of the *PyED* package to simulate the electrodialysis process in action.\n"
   ]
  },
  {
   "cell_type": "markdown",
   "metadata": {
    "toc": true
   },
   "source": [
    "<h1>Table of Contents<span class=\"tocSkip\"></span></h1>\n",
    "<div class=\"toc\"><ul class=\"toc-item\"><li><span><a href=\"#Definition-of-electrolytes\" data-toc-modified-id=\"Definition-of-electrolytes-2\"><span class=\"toc-item-num\">2&nbsp;&nbsp;</span>Definition of electrolytes</a></span></li><li><span><a href=\"#Simulation-of-concentration-evolution\" data-toc-modified-id=\"Simulation-of-concentration-evolution-3\"><span class=\"toc-item-num\">3&nbsp;&nbsp;</span>Simulation of concentration evolution</a></span></li><li><span><a href=\"#Simulation-of-conductivity-evolution\" data-toc-modified-id=\"Simulation-of-conductivity-evolution-4\"><span class=\"toc-item-num\">4&nbsp;&nbsp;</span>Simulation of conductivity evolution</a></span></li><li><span><a href=\"#Simulation-of-conductivity-with-temperature-dependence\" data-toc-modified-id=\"Simulation-of-conductivity-with-temperature-dependence-5\"><span class=\"toc-item-num\">5&nbsp;&nbsp;</span>Simulation of conductivity with temperature-dependence</a></span><ul class=\"toc-item\"><li><span><a href=\"#Surrogate-model-for-temperature\" data-toc-modified-id=\"Surrogate-model-for-temperature-5.1\"><span class=\"toc-item-num\">5.1&nbsp;&nbsp;</span>Surrogate model for temperature</a></span></li><li><span><a href=\"#The-non-linear-temperature-correction\" data-toc-modified-id=\"The-non-linear-temperature-correction-5.2\"><span class=\"toc-item-num\">5.2&nbsp;&nbsp;</span>The non-linear temperature correction</a></span></li></ul></li><li><span><a href=\"#Simulation-of-conductivity\" data-toc-modified-id=\"Simulation-of-conductivity-6\"><span class=\"toc-item-num\">6&nbsp;&nbsp;</span>Simulation of conductivity</a></span></li><li><span><a href=\"#Experimental-validation\" data-toc-modified-id=\"Experimental-validation-7\"><span class=\"toc-item-num\">7&nbsp;&nbsp;</span>Experimental validation</a></span><ul class=\"toc-item\"><li><span><a href=\"#Conductivity\" data-toc-modified-id=\"Conductivity-7.1\"><span class=\"toc-item-num\">7.1&nbsp;&nbsp;</span>Conductivity</a></span></li><li><span><a href=\"#Resistance\" data-toc-modified-id=\"Resistance-7.2\"><span class=\"toc-item-num\">7.2&nbsp;&nbsp;</span>Resistance</a></span></li></ul></li><li><span><a href=\"#References\" data-toc-modified-id=\"References-8\"><span class=\"toc-item-num\">8&nbsp;&nbsp;</span>References</a></span></li></ul></div>"
   ]
  },
  {
   "cell_type": "markdown",
   "metadata": {},
   "source": [
    "Since this is a local package we first need to define the path to the *PyED* package"
   ]
  },
  {
   "cell_type": "code",
   "execution_count": null,
   "metadata": {
    "ExecuteTime": {
     "end_time": "2020-05-08T15:20:46.153120Z",
     "start_time": "2020-05-08T15:20:46.138153Z"
    }
   },
   "outputs": [],
   "source": [
    "import os\n",
    "import sys\n",
    "module_path = os.path.abspath(os.path.join('../PyED'))\n",
    "if module_path not in sys.path:\n",
    "    sys.path.append(module_path)\n",
    "    \n",
    "%load_ext autoreload\n",
    "%autoreload 2"
   ]
  },
  {
   "cell_type": "markdown",
   "metadata": {},
   "source": [
    "Let's import some useful libraries"
   ]
  },
  {
   "cell_type": "code",
   "execution_count": null,
   "metadata": {
    "ExecuteTime": {
     "end_time": "2020-05-08T15:20:46.351044Z",
     "start_time": "2020-05-08T15:20:46.154977Z"
    }
   },
   "outputs": [],
   "source": [
    "import matplotlib.pyplot as plt\n",
    "import numpy as np\n",
    "%matplotlib inline"
   ]
  },
  {
   "cell_type": "markdown",
   "metadata": {},
   "source": [
    "Now the package can be imported,"
   ]
  },
  {
   "cell_type": "code",
   "execution_count": null,
   "metadata": {
    "ExecuteTime": {
     "end_time": "2020-05-08T15:20:46.360338Z",
     "start_time": "2020-05-08T15:20:46.352447Z"
    }
   },
   "outputs": [],
   "source": [
    "from PyED import Electrolyte, Reservoir, Channel"
   ]
  },
  {
   "cell_type": "markdown",
   "metadata": {},
   "source": [
    "## Definition of electrolytes\n",
    "The first step is defining the different electrolytes to be used in the setup. We will use two Na2SO4 for the electrolyte rinsing solution and NaCl for the diluate and concentrate compartments"
   ]
  },
  {
   "cell_type": "code",
   "execution_count": null,
   "metadata": {
    "ExecuteTime": {
     "end_time": "2020-05-08T15:20:46.370989Z",
     "start_time": "2020-05-08T15:20:46.361758Z"
    }
   },
   "outputs": [],
   "source": [
    "NaCl = Electrolyte(lambdaEq=10.53e-3)     # Define sodium chloride with a conductivity of 10.53e-3 (mS/cm)\n",
    "Na2SO4 = Electrolyte(lambdaEq=25.982e-3)   # Define sodium sulfate with a conductivity of 25.982e-3 (mS/cm)"
   ]
  },
  {
   "cell_type": "markdown",
   "metadata": {
    "ExecuteTime": {
     "end_time": "2020-05-08T09:28:11.400143Z",
     "start_time": "2020-05-08T09:28:11.393708Z"
    }
   },
   "source": [
    "## Simulation of concentration evolution\n",
    "The setup is a batch ED setup with one concentrate, diluate and electrolyte rinsing reservoir. First the different reservoirs are constructed from the *Reservoir* class"
   ]
  },
  {
   "cell_type": "code",
   "execution_count": null,
   "metadata": {
    "ExecuteTime": {
     "end_time": "2020-05-08T15:20:46.383293Z",
     "start_time": "2020-05-08T15:20:46.372587Z"
    }
   },
   "outputs": [],
   "source": [
    "diluateRes = Reservoir(volume=1e-3,           # volume of diluate reservoir (m3)\n",
    "                    concentration = 0.1*1000,  # initial concentration of salt  (mol.m-3)\n",
    "                    electrolyte=NaCl)   \n",
    "\n",
    "concentrateRes = Reservoir(volume=1e-3,           # volume of diluate reservoir (m3)\n",
    "                    concentration = 0.1*1000,     # initial concentration of salt  (mol.m-3)\n",
    "                    electrolyte=NaCl)   \n",
    "\n",
    "ERSRes = Reservoir(volume=1e-3,                   # volume of diluate reservoir (m3)\n",
    "                    concentration = 0.1*1000,     # initial concentration of salt  (mol.m-3)\n",
    "                    electrolyte=Na2SO4)   \n"
   ]
  },
  {
   "cell_type": "markdown",
   "metadata": {},
   "source": [
    "The flux that is transported between these reservoirs can be computed as follows,\n",
    "\n",
    "$$J_m = \\cfrac{\\epsilon\\,i}{F}$$\n",
    "\n",
    "with $J_m$ the flux of salt (mol/s),the current efficiency  $\\epsilon$ (-) , $i$ the electric current (A or C/s) and $F$ Faraday's constant (C/mol)."
   ]
  },
  {
   "cell_type": "code",
   "execution_count": null,
   "metadata": {
    "ExecuteTime": {
     "end_time": "2020-05-08T15:20:46.394447Z",
     "start_time": "2020-05-08T15:20:46.385208Z"
    }
   },
   "outputs": [],
   "source": [
    "epsilon = 0.9\n",
    "current = 1.0\n",
    "F = 96485.33 "
   ]
  },
  {
   "cell_type": "code",
   "execution_count": null,
   "metadata": {
    "ExecuteTime": {
     "end_time": "2020-05-08T15:20:46.405709Z",
     "start_time": "2020-05-08T15:20:46.396828Z"
    }
   },
   "outputs": [],
   "source": [
    "Jm = epsilon*current/F "
   ]
  },
  {
   "cell_type": "markdown",
   "metadata": {},
   "source": [
    "The time-evolution of the reservoirs affected by the flux can be computed through the *timeLoop()* function of the *Reservoir* class instance. It is assumed that the reservoirs are continuously-stirred tanks and a mass balance over each reservoir leads to,\n",
    "\n",
    "$$change of mass = in - out + accumulation \\, ,$$\n",
    "\n",
    "$$\\cfrac{\\mathrm{d}M}{\\mathrm{d}t} = \\cfrac{ \\epsilon\\,i}{F} $$\n",
    "\n",
    "$$\\cfrac{\\mathrm{d}(C\\,V)}{\\mathrm{d}t} = \\cfrac{ \\epsilon\\,i}{F} $$\n",
    "\n",
    "$$\\cfrac{\\mathrm{d}C}{\\mathrm{d}t} = \\cfrac{ \\epsilon\\,i}{F\\,V} $$\n",
    "\n",
    "Integration of this equation leads to,\n",
    "\n",
    "$$ C_t =  C_0 - t\\,\\cfrac{i}{F\\, V}  $$\n",
    "\n",
    "which is implemented as the *timeLoop()* method of the *Reservoir* class.\n",
    "\n"
   ]
  },
  {
   "cell_type": "code",
   "execution_count": null,
   "metadata": {
    "ExecuteTime": {
     "end_time": "2020-05-08T15:20:46.423005Z",
     "start_time": "2020-05-08T15:20:46.407141Z"
    }
   },
   "outputs": [],
   "source": [
    "tEnd = 160*60 # (s)\n",
    "time = np.linspace(0,tEnd, 40)"
   ]
  },
  {
   "cell_type": "code",
   "execution_count": null,
   "metadata": {
    "ExecuteTime": {
     "end_time": "2020-05-08T15:20:46.439119Z",
     "start_time": "2020-05-08T15:20:46.427413Z"
    }
   },
   "outputs": [],
   "source": [
    "CDil = diluateRes.timeLoop(Jm, time)\n",
    "CCon = concentrateRes.timeLoop(-Jm, time)\n",
    "CERS = ERSRes.timeLoop(0.0, time)"
   ]
  },
  {
   "cell_type": "markdown",
   "metadata": {},
   "source": [
    "After computing the concentration evolution in each channel, it can be visualised"
   ]
  },
  {
   "cell_type": "code",
   "execution_count": null,
   "metadata": {
    "ExecuteTime": {
     "end_time": "2020-05-08T15:20:46.679371Z",
     "start_time": "2020-05-08T15:20:46.441132Z"
    }
   },
   "outputs": [],
   "source": [
    "plt.figure(num=None, figsize=(8, 6), dpi=120)\n",
    "\n",
    "plt.plot(time/60, CCon, time/60, CDil)\n",
    "plt.xlabel(\"Time (min)\")\n",
    "plt.ylabel(\"Concentration of NaCl (mom/m3)\")\n",
    "plt.legend([\"Concentrate\", \"Diluate\"], loc=0)\n",
    "plt.title(\"Evolution of salt concentration in concentrate/diluate reservoirs\")\n",
    "\n",
    "ax = plt.gca()\n",
    "ax.spines['right'].set_visible(False)\n",
    "ax.spines['top'].set_visible(False)\n",
    "\n",
    "# Only show ticks on the left and bottom spines\n",
    "ax.yaxis.set_ticks_position('left')\n",
    "ax.xaxis.set_ticks_position('bottom')"
   ]
  },
  {
   "cell_type": "markdown",
   "metadata": {},
   "source": [
    "With the concentration profiles predicted, it is time to move on predicting the conductivity"
   ]
  },
  {
   "cell_type": "markdown",
   "metadata": {},
   "source": [
    "## Simulation of conductivity evolution"
   ]
  },
  {
   "cell_type": "markdown",
   "metadata": {},
   "source": [
    "Assuming a constant molar conductivity of NaCl and Na2SO4, which is not entirely true [1]. The conductivity $\\kappa$ is computed by plugging the concentration arrays into the *conductivity*-method, \n",
    "\n",
    "$$\\kappa = \\Lambda_m\\, c$$\n",
    "\n",
    "with $\\Lambda_m$ the molar conductivity and $c$ the concentration of a certain electrolyte"
   ]
  },
  {
   "cell_type": "code",
   "execution_count": null,
   "metadata": {
    "ExecuteTime": {
     "end_time": "2020-05-08T15:20:46.689131Z",
     "start_time": "2020-05-08T15:20:46.680867Z"
    }
   },
   "outputs": [],
   "source": [
    "kappaDil = diluateRes.conductivity(CDil)*10  # times 10 to convert to mS/cm\n",
    "kappaCon = concentrateRes.conductivity(CCon)*10\n",
    "kappaERS = ERSRes.conductivity(CERS)*10"
   ]
  },
  {
   "cell_type": "code",
   "execution_count": null,
   "metadata": {
    "ExecuteTime": {
     "end_time": "2020-05-08T15:20:46.898038Z",
     "start_time": "2020-05-08T15:20:46.690630Z"
    }
   },
   "outputs": [],
   "source": [
    "plt.figure(num=None, figsize=(8, 6), dpi=120)\n",
    "\n",
    "plt.plot(time/60, kappaCon, time/60, kappaDil, time/60, kappaERS)\n",
    "\n",
    "plt.xlabel(\"Time (min)\")\n",
    "plt.ylabel(\"Conductivity (mS/cm)\")\n",
    "plt.legend([\"Concentrate\", \"Diluate\", \"ERS\"], loc=0)\n",
    "plt.title(\"Evolution of conductivity in the reservoirs\")\n",
    "\n",
    "ax = plt.gca()\n",
    "ax.spines['right'].set_visible(False)\n",
    "ax.spines['top'].set_visible(False)\n",
    "\n",
    "# Only show ticks on the left and bottom spines\n",
    "ax.yaxis.set_ticks_position('left')\n",
    "ax.xaxis.set_ticks_position('bottom')"
   ]
  },
  {
   "cell_type": "markdown",
   "metadata": {},
   "source": [
    "## Simulation of conductivity with temperature-dependence"
   ]
  },
  {
   "cell_type": "markdown",
   "metadata": {},
   "source": [
    "The conductivity depends on the temperature and by applying a non-linear temperature compensation to the conductivity prediction one can greatly improve the accuracy of the prediction"
   ]
  },
  {
   "cell_type": "markdown",
   "metadata": {},
   "source": [
    "###  Surrogate model for temperature"
   ]
  },
  {
   "cell_type": "markdown",
   "metadata": {},
   "source": [
    "To take into effect the temperature evolution a polynomial is fit to the data of a typical temperature profile during the ED experiments. The *poly1D* functionality is used from *Numpy* to fit a 2nd order polynomial to the temperature data"
   ]
  },
  {
   "cell_type": "code",
   "execution_count": null,
   "metadata": {
    "ExecuteTime": {
     "end_time": "2020-05-08T15:20:46.910607Z",
     "start_time": "2020-05-08T15:20:46.899444Z"
    }
   },
   "outputs": [],
   "source": [
    "timeExp = np.array([0,\n",
    "    1500,\n",
    "    3000,\n",
    "    4500,\n",
    "    6000,\n",
    "    7500,\n",
    "    9000,\n",
    "    10500])\n",
    "\n",
    "T1 = np.array([\n",
    "    21.75,\n",
    "    23,\n",
    "    24,\n",
    "    24.75,\n",
    "    25.25,\n",
    "    26,\n",
    "    26.25,\n",
    "    26.5])"
   ]
  },
  {
   "cell_type": "code",
   "execution_count": null,
   "metadata": {
    "ExecuteTime": {
     "end_time": "2020-05-08T15:20:46.922804Z",
     "start_time": "2020-05-08T15:20:46.911918Z"
    }
   },
   "outputs": [],
   "source": [
    "temperatureModel = np.poly1d(np.polyfit(timeExp, T1, 2)) # fitting a 2th order polynomial to the data"
   ]
  },
  {
   "cell_type": "code",
   "execution_count": null,
   "metadata": {
    "ExecuteTime": {
     "end_time": "2020-05-08T15:20:47.082193Z",
     "start_time": "2020-05-08T15:20:46.924593Z"
    }
   },
   "outputs": [],
   "source": [
    "plt.figure(num=None, figsize=(8, 6), dpi=100)\n",
    "\n",
    "ax = plt.gca()\n",
    "ax.scatter(timeExp/60, T1)\n",
    "ax.plot(time/60, temperatureModel(time))\n",
    "\n",
    "\n",
    "ax.set_xlabel(\"Time (min)\")\n",
    "ax.set_ylabel(\"Temperature (°C)\")\n",
    "plt.legend([\"Measurement\", \"Fit polynomial\"], loc=0)\n",
    "\n",
    "# Hide the right and top spines\n",
    "ax.spines['right'].set_visible(False)\n",
    "ax.spines['top'].set_visible(False)\n",
    "# Only show ticks on the left and bottom spines\n",
    "ax.yaxis.set_ticks_position('left')\n",
    "ax.xaxis.set_ticks_position('bottom')"
   ]
  },
  {
   "cell_type": "markdown",
   "metadata": {},
   "source": [
    "### The non-linear temperature correction\n",
    "\n",
    "The non-linear temperature correction is used from this paper [2].\n",
    "\n",
    "$$\\Lambda_{m,T} = \\left(\\Lambda_{m,25}- 0.0545 \\right)\\,\\left( 1 + 0.02\\,\\left(T-25 \\right) \\right) + \\Lambda_{w,T}$$\n",
    "\n",
    "with $\\Lambda_{m,T}$ the molar conductivity of the electrolyte at temperature $T$ ($^\\circ$C),  $\\Lambda_{m,25}$ the conductivity at 25\\,$^\\circ$C (tables) and $\\Lambda_{w,T}$ the conductivity of pure water at temperature $T$. For the latter the following correlation with the temperature is used,\n",
    "\n",
    "$$\\Lambda_{w,T} = 0.0545\\left(0.55\\,e^{0.0363\\,T} - 0.356 \\right)$$\n",
    "\n",
    "This is implemented in the *conductivityTemp()* method"
   ]
  },
  {
   "cell_type": "code",
   "execution_count": null,
   "metadata": {
    "ExecuteTime": {
     "end_time": "2020-05-08T15:20:47.095126Z",
     "start_time": "2020-05-08T15:20:47.084231Z"
    }
   },
   "outputs": [],
   "source": [
    "temperature = temperatureModel(time)\n",
    "kappaDilComp = diluateRes.conductivityTemp(CDil, temperature)*10  # times 10 to convert to mS/cm\n",
    "kappaConComp = concentrateRes.conductivityTemp(CCon, temperature)*10\n",
    "kappaERSComp = ERSRes.conductivityTemp(CERS, temperature)*10"
   ]
  },
  {
   "cell_type": "code",
   "execution_count": null,
   "metadata": {
    "ExecuteTime": {
     "end_time": "2020-05-08T15:20:47.316383Z",
     "start_time": "2020-05-08T15:20:47.103825Z"
    }
   },
   "outputs": [],
   "source": [
    "plt.figure(num=None, figsize=(8, 6), dpi=120)\n",
    "ax = plt.gca()\n",
    "ax.plot(time/60,  kappaCon, time/60, kappaDil, time/60, kappaERS)\n",
    "plt.gca().set_prop_cycle(None)\n",
    "ax.plot(time/60,  kappaConComp, time/60, kappaDilComp, time/60, kappaERSComp, ls='dashed')\n",
    "\n",
    "\n",
    "ax.set_xlabel(\"Time (min)\")\n",
    "ax.set_ylabel(\"Conductivity (mS/cm)\")\n",
    "plt.legend([ \"Concentrate\", \"Diluate\", \"ERS\", \"Concentrate (comp)\", \"Diluate (comp)\", \"ERS (comp)\"], loc=0)\n",
    "\n",
    "# Hide the right and top spines\n",
    "ax.spines['right'].set_visible(False)\n",
    "ax.spines['top'].set_visible(False)\n",
    "# Only show ticks on the left and bottom spines\n",
    "ax.yaxis.set_ticks_position('left')\n",
    "ax.xaxis.set_ticks_position('bottom')"
   ]
  },
  {
   "cell_type": "markdown",
   "metadata": {},
   "source": [
    "## Simulation of conductivity"
   ]
  },
  {
   "cell_type": "markdown",
   "metadata": {},
   "source": [
    "Now that the conductivity can be simulated in the ED system, The final step is to simulate the stack resistance $R_t$ the stack (our stack has one cell pair), \n",
    "\n",
    "$$R_t = R_{er} + 2\\,R_e + U_{D}\\,i + R_c + R_d + 2\\,R_{CEM} + R_{AEM} $$\n",
    "\n",
    "with \n",
    "* $R_{er}$ the resistance due to electrode reaction\n",
    "* $R_{e}$ the electrolytic resistance of the electrode rinsing solution\n",
    "* $U_{D}$ the Donnan potential, but the net-effect is zero so this can be removed\n",
    "* $R_{c}$ the electrolytic resistance of the concentrate channel\n",
    "* $R_{d}$ the electrolytic resistance of the diluate channel\n",
    "* $R_{CEM}$ the resistance of the CEM\n",
    "* $R_{AEM}$ the resistance of the AEM\n",
    "\n",
    "$R_{er}$ is very hard to estimate but since this is the only parameter left undetermined, it can easily be estimated from the data\n",
    "\n",
    "$R_e$, $R_c$, $R_d$ follow from the conductivity computed earlier,\n",
    "\n",
    "$$R_x = \\cfrac{w}{\\kappa\\, A_m \\, A_s}$$\n",
    "\n",
    "with $w$ the channel thickness, $A_m$ the membrane surface and $A_s$ the fraction of the membrane that is not blocked by spacers. Image analysis showed that for our spacers this is about 85%. This equation is implemented as the *resistance()*-function defined below. Finally, the resistance of the IEMs is obtained from the manufacturer."
   ]
  },
  {
   "cell_type": "code",
   "execution_count": null,
   "metadata": {
    "ExecuteTime": {
     "end_time": "2020-05-08T15:20:47.328677Z",
     "start_time": "2020-05-08T15:20:47.318251Z"
    }
   },
   "outputs": [],
   "source": [
    "def resistance(w, kappa, Am, As):\n",
    "    return w/(kappa*Am*As)"
   ]
  },
  {
   "cell_type": "code",
   "execution_count": null,
   "metadata": {
    "ExecuteTime": {
     "end_time": "2020-05-08T15:20:47.351362Z",
     "start_time": "2020-05-08T15:20:47.335290Z"
    }
   },
   "outputs": [],
   "source": [
    "w = 3e-3\n",
    "Am = 4e-2*50e-2          # membrane surface\n",
    "As = 0.85                # obtained from image analysis\n",
    "RCEM = 1.125/(Am*10**4)\n",
    "RAEM = 1.25/(Am*10**4)"
   ]
  },
  {
   "cell_type": "markdown",
   "metadata": {},
   "source": [
    "**Resistance without electrode reaction constant**"
   ]
  },
  {
   "cell_type": "code",
   "execution_count": null,
   "metadata": {
    "ExecuteTime": {
     "end_time": "2020-05-08T15:20:47.364448Z",
     "start_time": "2020-05-08T15:20:47.352886Z"
    }
   },
   "outputs": [],
   "source": [
    "RDil = resistance(w, kappaDil/10, Am, As) # divided by then to go from mS/cm to S/m\n",
    "RCon = resistance(w, kappaCon/10, Am, As)\n",
    "RErs = resistance(w, kappaERS/10, Am, As)\n",
    "Rt = RDil + RCon + 2*RErs + 2*RCEM + RAEM"
   ]
  },
  {
   "cell_type": "code",
   "execution_count": null,
   "metadata": {
    "ExecuteTime": {
     "end_time": "2020-05-08T15:20:47.587129Z",
     "start_time": "2020-05-08T15:20:47.366461Z"
    }
   },
   "outputs": [],
   "source": [
    "plt.figure(num=None, figsize=(8, 6), dpi=120)\n",
    "ax = plt.gca()\n",
    "\n",
    "ax.plot(time/60, RDil, time/60, RCon, time/60, RErs, time/60, Rt)\n",
    "\n",
    "ax.set_xlabel(\"Time (min)\")\n",
    "ax.set_ylabel(\"Channel Resistance (Ohm)\")\n",
    "plt.legend([\"Diluate\", \"Concentrate\", \"ERS\", \"Total\"], loc=0)\n",
    "\n",
    "# Hide the right and top spines\n",
    "ax.spines['right'].set_visible(False)\n",
    "ax.spines['top'].set_visible(False)\n",
    "# Only show ticks on the left and bottom spines\n",
    "ax.yaxis.set_ticks_position('left')\n",
    "ax.xaxis.set_ticks_position('bottom')"
   ]
  },
  {
   "cell_type": "markdown",
   "metadata": {},
   "source": [
    "**Resistance with electrode reaction constant**\n",
    "The baseline resistance can be increased by \"calibrating\" the Resistance of the electrode reactions."
   ]
  },
  {
   "cell_type": "code",
   "execution_count": null,
   "metadata": {
    "ExecuteTime": {
     "end_time": "2020-05-08T15:20:47.598344Z",
     "start_time": "2020-05-08T15:20:47.588954Z"
    }
   },
   "outputs": [],
   "source": [
    "Rer = 3.0                # change this to fit the initial resistance"
   ]
  },
  {
   "cell_type": "code",
   "execution_count": null,
   "metadata": {
    "ExecuteTime": {
     "end_time": "2020-05-08T15:20:47.611274Z",
     "start_time": "2020-05-08T15:20:47.600120Z"
    }
   },
   "outputs": [],
   "source": [
    "RDil = resistance(w, kappaDil/10, Am, As)\n",
    "RCon = resistance(w, kappaCon/10, Am, As)\n",
    "RErs = resistance(w, kappaERS/10, Am, As)\n",
    "Rt = RDil + RCon + 2*RErs + 2*RCEM + RAEM + Rer"
   ]
  },
  {
   "cell_type": "code",
   "execution_count": null,
   "metadata": {
    "ExecuteTime": {
     "end_time": "2020-05-08T15:20:47.787473Z",
     "start_time": "2020-05-08T15:20:47.612911Z"
    }
   },
   "outputs": [],
   "source": [
    "plt.figure(num=None, figsize=(8, 6), dpi=120)\n",
    "ax = plt.gca()\n",
    "\n",
    "ax.plot(time/60, Rt, c=\"#D62728\")\n",
    "\n",
    "ax.set_xlabel(\"Time (min)\")\n",
    "ax.set_ylabel(\"Stack Resistance (Ohm)\")\n",
    "\n",
    "# Hide the right and top spines\n",
    "ax.spines['right'].set_visible(False)\n",
    "ax.spines['top'].set_visible(False)\n",
    "# Only show ticks on the left and bottom spines\n",
    "ax.yaxis.set_ticks_position('left')\n",
    "ax.xaxis.set_ticks_position('bottom')"
   ]
  },
  {
   "cell_type": "markdown",
   "metadata": {},
   "source": [
    "## Experimental validation\n",
    "The conductivity prediction and Stack resistance prediction can be compared to experimental data"
   ]
  },
  {
   "cell_type": "markdown",
   "metadata": {},
   "source": [
    "### Conductivity"
   ]
  },
  {
   "cell_type": "code",
   "execution_count": null,
   "metadata": {},
   "outputs": [],
   "source": []
  },
  {
   "cell_type": "markdown",
   "metadata": {},
   "source": [
    "### Resistance"
   ]
  },
  {
   "cell_type": "code",
   "execution_count": null,
   "metadata": {},
   "outputs": [],
   "source": []
  },
  {
   "cell_type": "markdown",
   "metadata": {},
   "source": [
    "## References\n",
    "[1] [White paper: Reducing Common Errors in Conductivity Measurements](https://www.mt.com/dam/MT-NA/pHCareCenter/Conductivity_Reduce_Common_Errors_WP.pdf)\n",
    "\n",
    "[2] [Cation conductivity temperature compensation](https://www.mt.com/dam/mt_ext_files/Editorial/Generic/4/Paper-THOR-Cation-Cond-Temp-Bev-Gray-11-97_Editorial-Generic_1161617581924_files/cation_cond_tempcompensation.pdf)"
   ]
  }
 ],
 "metadata": {
  "@webio": {
   "lastCommId": null,
   "lastKernelId": null
  },
  "hide_input": false,
  "kernelspec": {
   "display_name": "Python [conda env:pyFOAM]",
   "language": "python",
   "name": "conda-env-pyFOAM-py"
  },
  "language_info": {
   "codemirror_mode": {
    "name": "ipython",
    "version": 3
   },
   "file_extension": ".py",
   "mimetype": "text/x-python",
   "name": "python",
   "nbconvert_exporter": "python",
   "pygments_lexer": "ipython3",
   "version": "3.6.4"
  },
  "latex_envs": {
   "LaTeX_envs_menu_present": true,
   "autoclose": false,
   "autocomplete": true,
   "bibliofile": "biblio.bib",
   "cite_by": "apalike",
   "current_citInitial": 1,
   "eqLabelWithNumbers": true,
   "eqNumInitial": 1,
   "hotkeys": {
    "equation": "Ctrl-E",
    "itemize": "Ctrl-I"
   },
   "labels_anchors": false,
   "latex_user_defs": false,
   "report_style_numbering": false,
   "user_envs_cfg": false
  },
  "toc": {
   "nav_menu": {},
   "number_sections": true,
   "sideBar": false,
   "skip_h1_title": true,
   "title_cell": "Table of Contents",
   "title_sidebar": "Contents",
   "toc_cell": true,
   "toc_position": {},
   "toc_section_display": true,
   "toc_window_display": false
  }
 },
 "nbformat": 4,
 "nbformat_minor": 2
}
